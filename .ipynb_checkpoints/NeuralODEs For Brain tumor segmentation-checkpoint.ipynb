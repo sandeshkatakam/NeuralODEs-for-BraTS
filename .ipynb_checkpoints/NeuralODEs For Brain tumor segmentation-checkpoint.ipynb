{
 "cells": [
  {
   "cell_type": "markdown",
   "id": "682943ad",
   "metadata": {},
   "source": [
    "# Neural ODEs for Brain tumor segmentation"
   ]
  },
  {
   "cell_type": "markdown",
   "id": "7e9f16f5",
   "metadata": {},
   "source": [
    "## Data Loading and Preprocessing"
   ]
  },
  {
   "cell_type": "code",
   "execution_count": null,
   "id": "f9a2607e",
   "metadata": {},
   "outputs": [],
   "source": [
    "import nibabel"
   ]
  },
  {
   "cell_type": "markdown",
   "id": "da035e59",
   "metadata": {},
   "source": [
    "## Model Architecture"
   ]
  },
  {
   "cell_type": "code",
   "execution_count": null,
   "id": "3c543456",
   "metadata": {},
   "outputs": [],
   "source": [
    "class neuralodemodel():\n",
    "    def __init__(self, layers, tspan, diffeq, learning_rate):\n",
    "        self.layers = layers\n",
    "        self.tspan = tspan\n",
    "        self.diffeq = "
   ]
  },
  {
   "cell_type": "code",
   "execution_count": null,
   "id": "0ce77600",
   "metadata": {},
   "outputs": [],
   "source": []
  },
  {
   "cell_type": "markdown",
   "id": "a1fa342f",
   "metadata": {},
   "source": [
    "## Training"
   ]
  },
  {
   "cell_type": "markdown",
   "id": "c24e37e5",
   "metadata": {},
   "source": [
    "## Predictions"
   ]
  },
  {
   "cell_type": "markdown",
   "id": "87749442",
   "metadata": {},
   "source": [
    "## Evaluation metrics"
   ]
  },
  {
   "cell_type": "code",
   "execution_count": null,
   "id": "19ce704d",
   "metadata": {},
   "outputs": [],
   "source": []
  }
 ],
 "metadata": {
  "kernelspec": {
   "display_name": "Python 3 (ipykernel)",
   "language": "python",
   "name": "python3"
  },
  "language_info": {
   "codemirror_mode": {
    "name": "ipython",
    "version": 3
   },
   "file_extension": ".py",
   "mimetype": "text/x-python",
   "name": "python",
   "nbconvert_exporter": "python",
   "pygments_lexer": "ipython3",
   "version": "3.9.12"
  }
 },
 "nbformat": 4,
 "nbformat_minor": 5
}
