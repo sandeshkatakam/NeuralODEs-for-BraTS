{
 "cells": [
  {
   "cell_type": "markdown",
   "id": "c518c0bf",
   "metadata": {},
   "source": [
    "# NeuralODEs for Brain Tumor segmentation"
   ]
  },
  {
   "cell_type": "markdown",
   "id": "c67f5ec3",
   "metadata": {},
   "source": [
    "## Table of contents:\n",
    "* Dataloading of BraTS 2020 Dataset\n",
    "* Preprocessing the Dataset\n",
    "* "
   ]
  },
  {
   "cell_type": "code",
   "execution_count": null,
   "id": "2a1a0ad9",
   "metadata": {},
   "outputs": [],
   "source": []
  }
 ],
 "metadata": {
  "kernelspec": {
   "display_name": "Python 3 (ipykernel)",
   "language": "python",
   "name": "python3"
  },
  "language_info": {
   "codemirror_mode": {
    "name": "ipython",
    "version": 3
   },
   "file_extension": ".py",
   "mimetype": "text/x-python",
   "name": "python",
   "nbconvert_exporter": "python",
   "pygments_lexer": "ipython3",
   "version": "3.9.12"
  }
 },
 "nbformat": 4,
 "nbformat_minor": 5
}
